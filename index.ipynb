{
 "cells": [
  {
   "cell_type": "markdown",
   "metadata": {},
   "source": [
    "# Creating Professional Quality Visualizations With Matplotlib\n",
    "\n",
    "## Introduction\n",
    "\n",
    "In this lesson, we'll learn some best practices for creating high-quality data visualizations good enough for any professional environment!\n",
    "\n",
    "## Objectives\n",
    "\n",
    "You will be able to:\n",
    "\n",
    "* Identify the 'must-haves' for any data visualization\n",
    "* Effectively create and customize labels and legends for data visualizations\n",
    "* Create high-quality, professional-looking visualizations with matplotlib\n",
    "\n",
    "## Getting Started"
   ]
  }
 ],
 "metadata": {
  "kernelspec": {
   "display_name": "Python 3",
   "language": "python",
   "name": "python3"
  },
  "language_info": {
   "codemirror_mode": {
    "name": "ipython",
    "version": 3
   },
   "file_extension": ".py",
   "mimetype": "text/x-python",
   "name": "python",
   "nbconvert_exporter": "python",
   "pygments_lexer": "ipython3",
   "version": "3.6.7"
  }
 },
 "nbformat": 4,
 "nbformat_minor": 2
}
